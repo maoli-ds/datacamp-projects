{
 "cells": [
  {
   "cell_type": "code",
   "execution_count": 3,
   "id": "2caea175",
   "metadata": {},
   "outputs": [],
   "source": [
    "import sqlalchemy\n",
    "from sqlalchemy import create_engine, MetaData\n",
    "from sqlalchemy import inspect\n",
    "from sqlalchemy import select\n",
    "from sqlalchemy import text"
   ]
  },
  {
   "cell_type": "code",
   "execution_count": 5,
   "id": "19aa8a31",
   "metadata": {},
   "outputs": [],
   "source": [
    "engine = create_engine('sqlite:///sqlite_db_pythonsqlite.db')"
   ]
  },
  {
   "cell_type": "code",
   "execution_count": 9,
   "id": "2a67102e",
   "metadata": {},
   "outputs": [],
   "source": [
    "inspector = inspect(engine)"
   ]
  },
  {
   "cell_type": "code",
   "execution_count": 10,
   "id": "3bdc742f",
   "metadata": {},
   "outputs": [
    {
     "name": "stdout",
     "output_type": "stream",
     "text": [
      "['Bookings', 'Facilities', 'Members']\n"
     ]
    }
   ],
   "source": [
    "print(inspector.get_table_names())"
   ]
  },
  {
   "cell_type": "code",
   "execution_count": 13,
   "id": "9b7af7a1",
   "metadata": {},
   "outputs": [
    {
     "name": "stdout",
     "output_type": "stream",
     "text": [
      "Column information for table Bookings\n",
      "bookid INTEGER\n",
      "facid INTEGER\n",
      "memid INTEGER\n",
      "starttime VARCHAR(19)\n",
      "slots INTEGER\n",
      "----------------------------------------\n",
      "Column information for table Facilities\n",
      "facid INTEGER\n",
      "name VARCHAR(15)\n",
      "membercost DECIMAL(2, 1)\n",
      "guestcost DECIMAL(3, 1)\n",
      "initialoutlay INTEGER\n",
      "monthlymaintenance INTEGER\n",
      "----------------------------------------\n",
      "Column information for table Members\n",
      "memid INTEGER\n",
      "surname VARCHAR(17)\n",
      "firstname VARCHAR(9)\n",
      "address VARCHAR(39)\n",
      "zipcode INTEGER\n",
      "telephone VARCHAR(14)\n",
      "recommendedby VARCHAR(2)\n",
      "joindate VARCHAR(19)\n",
      "----------------------------------------\n"
     ]
    },
    {
     "name": "stderr",
     "output_type": "stream",
     "text": [
      "C:\\Users\\lmaow\\anaconda3\\lib\\site-packages\\sqlalchemy\\dialects\\sqlite\\base.py:2184: SAWarning: Could not instantiate type <class 'sqlalchemy.sql.sqltypes.INTEGER'> with reflected arguments ['5']; using no arguments.\n",
      "  util.warn(\n"
     ]
    }
   ],
   "source": [
    "for table_name in inspector.get_table_names():\n",
    "    print('Column information for table {}'.format(table_name))\n",
    "    for info in inspector.get_columns(table_name):\n",
    "        print(info['name'], info['type'])\n",
    "    print('-'*40)    "
   ]
  },
  {
   "cell_type": "code",
   "execution_count": 7,
   "id": "a4f7ed5f",
   "metadata": {},
   "outputs": [],
   "source": [
    "con = engine.connect()"
   ]
  },
  {
   "cell_type": "markdown",
   "id": "a93c3057",
   "metadata": {},
   "source": [
    "Q10: Produce a list of facilities with a total revenue less than 1000. The output of facility name and total revenue, sorted by revenue. Remember that there's a different cost for guests and members!"
   ]
  },
  {
   "cell_type": "code",
   "execution_count": 28,
   "id": "e06a6d65",
   "metadata": {},
   "outputs": [],
   "source": [
    "query = 'SELECT name, total_revenue '\\\n",
    "'FROM (Select f.name, (SUM(CASE WHEN book.memid=0 THEN f.guestcost*book.slots ELSE f.membercost*book.slots END)-'\\\n",
    "+\"COUNT(DISTINCT strftime('%m', book.starttime))*f.monthlymaintenance) AS total_revenue \"\\\n",
    "+'FROM Bookings AS book '\\\n",
    "+'LEFT JOIN Facilities AS f '\\\n",
    "+'ON book.facid=f.facid ' \\\n",
    "+'GROUP BY f.name '\\\n",
    "+'ORDER BY total_revenue) AS revenue_table '\\\n",
    "+'WHERE total_revenue<1000'"
   ]
  },
  {
   "cell_type": "code",
   "execution_count": 29,
   "id": "56d8aceb",
   "metadata": {},
   "outputs": [
    {
     "data": {
      "text/plain": [
       "[('Table Tennis', 150), ('Snooker Table', 195), ('Pool Table', 225)]"
      ]
     },
     "execution_count": 29,
     "metadata": {},
     "output_type": "execute_result"
    }
   ],
   "source": [
    "res = con.execute(query)\n",
    "res.fetchall()"
   ]
  },
  {
   "cell_type": "markdown",
   "id": "cd07ed5d",
   "metadata": {},
   "source": [
    "Q11: Produce a report of members and who recommended them in alphabetic surname,firstname order"
   ]
  },
  {
   "cell_type": "code",
   "execution_count": 32,
   "id": "75796264",
   "metadata": {},
   "outputs": [],
   "source": [
    "query = 'SELECT DISTINCT m.surname ||\" \"|| m.firstname AS membername, m1.membername AS recommendername'\\\n",
    "+' FROM Members AS m'\\\n",
    "+' LEFT JOIN (SELECT DISTINCT memid, surname ||\" \"|| firstname AS membername FROM Members) AS m1'\\\n",
    "+' ON m.recommendedby=m1.memid'\\\n",
    "+' ORDER BY membername'"
   ]
  },
  {
   "cell_type": "code",
   "execution_count": 33,
   "id": "22a91a75",
   "metadata": {},
   "outputs": [
    {
     "data": {
      "text/plain": [
       "[('Bader Florence', 'Stibbons Ponder'),\n",
       " ('Baker Anne', 'Stibbons Ponder'),\n",
       " ('Baker Timothy', 'Farrell Jemima'),\n",
       " ('Boothe Tim', 'Rownam Tim'),\n",
       " ('Butters Gerald', 'Smith Darren'),\n",
       " ('Coplin Joan', 'Baker Timothy'),\n",
       " ('Crumpet Erica', 'Smith Tracy'),\n",
       " ('Dare Nancy', 'Joplette Janice'),\n",
       " ('Farrell David', None),\n",
       " ('Farrell Jemima', None),\n",
       " ('GUEST GUEST', None),\n",
       " ('Genting Matthew', 'Butters Gerald'),\n",
       " ('Hunt John', 'Purview Millicent'),\n",
       " ('Jones David', 'Joplette Janice'),\n",
       " ('Jones Douglas', 'Jones David'),\n",
       " ('Joplette Janice', 'Smith Darren'),\n",
       " ('Mackenzie Anna', 'Smith Darren'),\n",
       " ('Owen Charles', 'Smith Darren'),\n",
       " ('Pinker David', 'Farrell Jemima'),\n",
       " ('Purview Millicent', 'Smith Tracy'),\n",
       " ('Rownam Tim', None),\n",
       " ('Rumney Henrietta', 'Genting Matthew'),\n",
       " ('Sarwin Ramnaresh', 'Bader Florence'),\n",
       " ('Smith Darren', None),\n",
       " ('Smith Jack', 'Smith Darren'),\n",
       " ('Smith Tracy', None),\n",
       " ('Stibbons Ponder', 'Tracy Burton'),\n",
       " ('Tracy Burton', None),\n",
       " ('Tupperware Hyacinth', None),\n",
       " ('Worthington-Smyth Henry', 'Smith Tracy')]"
      ]
     },
     "execution_count": 33,
     "metadata": {},
     "output_type": "execute_result"
    }
   ],
   "source": [
    "res = con.execute(query)\n",
    "res.fetchall()"
   ]
  },
  {
   "cell_type": "markdown",
   "id": "8b48a733",
   "metadata": {},
   "source": [
    "Q12: Find the facilities with their usage by member, but not guests"
   ]
  },
  {
   "cell_type": "code",
   "execution_count": 38,
   "id": "5717e62c",
   "metadata": {},
   "outputs": [],
   "source": [
    "query = 'SELECT f.name, COUNT(*)'\\\n",
    "' FROM Bookings AS book'\\\n",
    "' LEFT JOIN Facilities AS f'\\\n",
    "' ON book.facid = f.facid'\\\n",
    "' WHERE book.memid!=0'\\\n",
    "' GROUP BY f.name'"
   ]
  },
  {
   "cell_type": "code",
   "execution_count": 39,
   "id": "a7dd1d5f",
   "metadata": {},
   "outputs": [
    {
     "data": {
      "text/plain": [
       "[('Badminton Court', 344),\n",
       " ('Massage Room 1', 421),\n",
       " ('Massage Room 2', 27),\n",
       " ('Pool Table', 783),\n",
       " ('Snooker Table', 421),\n",
       " ('Squash Court', 195),\n",
       " ('Table Tennis', 385),\n",
       " ('Tennis Court 1', 308),\n",
       " ('Tennis Court 2', 276)]"
      ]
     },
     "execution_count": 39,
     "metadata": {},
     "output_type": "execute_result"
    }
   ],
   "source": [
    "res = con.execute(query)\n",
    "res.fetchall()"
   ]
  },
  {
   "cell_type": "markdown",
   "id": "1439b8c0",
   "metadata": {},
   "source": [
    "Q13: Find the facilities usage by month, but not guests"
   ]
  },
  {
   "cell_type": "code",
   "execution_count": 46,
   "id": "161e4c0c",
   "metadata": {},
   "outputs": [],
   "source": [
    "query = 'SELECT f.name, strftime(\"%m\", book.starttime) AS month, COUNT(*)'\\\n",
    "' FROM Bookings AS book'\\\n",
    "' LEFT JOIN Facilities AS f'\\\n",
    "' ON book.facid = f.facid'\\\n",
    "' WHERE book.memid!=0'\\\n",
    "' GROUP BY f.name, month'"
   ]
  },
  {
   "cell_type": "code",
   "execution_count": 47,
   "id": "e85de6ef",
   "metadata": {},
   "outputs": [
    {
     "data": {
      "text/plain": [
       "[('Badminton Court', '07', 51),\n",
       " ('Badminton Court', '08', 132),\n",
       " ('Badminton Court', '09', 161),\n",
       " ('Massage Room 1', '07', 77),\n",
       " ('Massage Room 1', '08', 153),\n",
       " ('Massage Room 1', '09', 191),\n",
       " ('Massage Room 2', '07', 4),\n",
       " ('Massage Room 2', '08', 9),\n",
       " ('Massage Room 2', '09', 14),\n",
       " ('Pool Table', '07', 103),\n",
       " ('Pool Table', '08', 272),\n",
       " ('Pool Table', '09', 408),\n",
       " ('Snooker Table', '07', 68),\n",
       " ('Snooker Table', '08', 154),\n",
       " ('Snooker Table', '09', 199),\n",
       " ('Squash Court', '07', 23),\n",
       " ('Squash Court', '08', 85),\n",
       " ('Squash Court', '09', 87),\n",
       " ('Table Tennis', '07', 48),\n",
       " ('Table Tennis', '08', 143),\n",
       " ('Table Tennis', '09', 194),\n",
       " ('Tennis Court 1', '07', 65),\n",
       " ('Tennis Court 1', '08', 111),\n",
       " ('Tennis Court 1', '09', 132),\n",
       " ('Tennis Court 2', '07', 41),\n",
       " ('Tennis Court 2', '08', 109),\n",
       " ('Tennis Court 2', '09', 126)]"
      ]
     },
     "execution_count": 47,
     "metadata": {},
     "output_type": "execute_result"
    }
   ],
   "source": [
    "res = con.execute(query)\n",
    "res.fetchall()"
   ]
  }
 ],
 "metadata": {
  "kernelspec": {
   "display_name": "Python 3",
   "language": "python",
   "name": "python3"
  },
  "language_info": {
   "codemirror_mode": {
    "name": "ipython",
    "version": 3
   },
   "file_extension": ".py",
   "mimetype": "text/x-python",
   "name": "python",
   "nbconvert_exporter": "python",
   "pygments_lexer": "ipython3",
   "version": "3.8.8"
  }
 },
 "nbformat": 4,
 "nbformat_minor": 5
}
